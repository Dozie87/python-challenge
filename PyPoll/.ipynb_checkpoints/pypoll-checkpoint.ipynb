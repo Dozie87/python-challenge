{
 "cells": [
  {
   "cell_type": "code",
   "execution_count": 17,
   "id": "06bba80c",
   "metadata": {},
   "outputs": [
    {
     "name": "stdout",
     "output_type": "stream",
     "text": [
      "Election Results\n",
      "------------------\n",
      "Total Votes: 369711\n",
      "------------------\n",
      "\n"
     ]
    }
   ],
   "source": [
    "#Dependencies\n",
    "import csv\n",
    "import os\n",
    "\n",
    "#load dataset and read it into an ouput file\n",
    "load_file = os.path.join(\".\", \"Resources\", \"election_data.csv\")\n",
    "\n",
    "load_output = os.path.join(\".\", \"election_analysis.txt\")\n",
    "\n",
    "total_votes = 0\n",
    "\n",
    "candidate_votes = {}\n",
    "cnandidates=_options = []\n",
    "\n",
    "winning_candidate = \"\"\n",
    "winning_count = 0\n",
    "\n",
    "with open(load_file) as election_data:\n",
    "    reader = csv.reader(election_data)\n",
    "    \n",
    "    header = next(reader)\n",
    "       \n",
    "    for row in reader:\n",
    "        total_votes += 1\n",
    "\n",
    "   \n",
    "election_results = (\n",
    "    f\"Election Results\\n\"\n",
    "    f\"------------------\\n\"\n",
    "    f\"Total Votes: {total_votes}\\n\"\n",
    "    f\"------------------\\n\"\n",
    ")\n",
    "        \n",
    "print(election_results)\n",
    "    \n",
    "    \n",
    "\n",
    "\n"
   ]
  }
 ],
 "metadata": {
  "kernelspec": {
   "display_name": "Python 3 (ipykernel)",
   "language": "python",
   "name": "python3"
  },
  "language_info": {
   "codemirror_mode": {
    "name": "ipython",
    "version": 3
   },
   "file_extension": ".py",
   "mimetype": "text/x-python",
   "name": "python",
   "nbconvert_exporter": "python",
   "pygments_lexer": "ipython3",
   "version": "3.9.13"
  }
 },
 "nbformat": 4,
 "nbformat_minor": 5
}
