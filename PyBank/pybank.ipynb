{
 "cells": [
  {
   "cell_type": "code",
   "execution_count": 37,
   "id": "52a0b306",
   "metadata": {
    "scrolled": true
   },
   "outputs": [
    {
     "name": "stdout",
     "output_type": "stream",
     "text": [
      "<_csv.reader object at 0x0000028C55F3B460>\n",
      "Financial Analysis\n",
      "-------------------\n",
      "Total Months: 86\n",
      "Total: $22564198\n",
      "Average Change: $-8311.11\n",
      "Greatest Increase in Profits: 16-Aug ($1862002)\n",
      "Greatest Decrease in profits: 14-Feb ($-1825558)\n"
     ]
    }
   ],
   "source": [
    "import csv\n",
    "import os\n",
    "\n",
    "#import data and store in a variable\n",
    "load_file = os.path.join(\".\", \"Resources\", \"budget_data.csv\")\n",
    "\n",
    "load_output  = os.path.join(\".\", \"budget_analysis.txt\")\n",
    "\n",
    "total_months = 0\n",
    "total_net = 0\n",
    "net_change_list = []\n",
    "month_of_changes =[]\n",
    "greatest = [\"\", 0]\n",
    "least = [\"\", 99999999999]\n",
    "\n",
    "#Read the csv file in the path and covert to a list\n",
    "with open(load_file) as financial_data:\n",
    "    reader =csv.reader(financial_data)\n",
    "    print(reader)\n",
    "    \n",
    "    #Read header\n",
    "    header = next(reader)\n",
    "    \n",
    "    first_row =next(reader)\n",
    "    total_net += int(first_row[1])\n",
    "    previous_net =int(first_row[1])\n",
    "    \n",
    "    total_months += 1\n",
    "    \n",
    "    for row in reader:\n",
    "        #Track the total\n",
    "        total_months += 1\n",
    "        total_net += int(row[1])\n",
    "        \n",
    "        \n",
    "        #Track the net change \n",
    "        net_change = int(row[1])- previous_net\n",
    "        previous_net =int(row[1])\n",
    "        net_change_list.append(net_change)\n",
    "        \n",
    "        \n",
    "        # calculate the greatest increase\n",
    "        if(net_change > greatest[1]):\n",
    "            greatest[0] = row[0]\n",
    "            greatest[1]= net_change\n",
    "            \n",
    "            \n",
    "        #Calculate the greatest decraese\n",
    "        if(net_change < least[1]):\n",
    "            least[0] = row[0]\n",
    "            least[1]= net_change\n",
    "        \n",
    "net_monthly_average = sum(net_change_list)/ len(net_change_list)        \n",
    "\n",
    "output =(\n",
    "    f\"Financial Analysis\\n\"\n",
    "    f\"-------------------\\n\"\n",
    "    f\"Total Months: {total_months}\\n\"\n",
    "    f\"Total: ${total_net}\\n\"\n",
    "    f\"Average Change: ${net_monthly_average:.2f}\\n\"\n",
    "    f\"Greatest Increase in Profits: {greatest[0]} (${greatest[1]})\\n\"\n",
    "    f\"Greatest Decrease in profits: {least[0]} (${least[1]})\"\n",
    ")\n",
    "\n",
    "print(output)\n",
    "\n",
    "#read the output into a text file\n",
    "with open(load_output, \"w\") as txt_file:\n",
    "    txt_file.write(output)"
   ]
  },
  {
   "cell_type": "code",
   "execution_count": null,
   "id": "de6b4d58",
   "metadata": {},
   "outputs": [],
   "source": []
  }
 ],
 "metadata": {
  "kernelspec": {
   "display_name": "Python 3 (ipykernel)",
   "language": "python",
   "name": "python3"
  },
  "language_info": {
   "codemirror_mode": {
    "name": "ipython",
    "version": 3
   },
   "file_extension": ".py",
   "mimetype": "text/x-python",
   "name": "python",
   "nbconvert_exporter": "python",
   "pygments_lexer": "ipython3",
   "version": "3.9.13"
  }
 },
 "nbformat": 4,
 "nbformat_minor": 5
}
